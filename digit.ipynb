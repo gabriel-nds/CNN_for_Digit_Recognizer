{
 "cells": [
  {
   "attachments": {},
   "cell_type": "markdown",
   "metadata": {},
   "source": [
    "# DeepDigits: Handwritten Digit Recognition with Convolutional Neural Networks\n"
   ]
  },
  {
   "attachments": {},
   "cell_type": "markdown",
   "metadata": {},
   "source": [
    "Welcome to our Digit Recognizer Project! \n",
    "\n",
    "This Jupyter Notebook contains the code and steps for building a convolutional neural network (CNN) to recognize handwritten digits. The goal of this project is to demonstrate the process of creating, training, and evaluating a CNN using the popular MNIST dataset.\n",
    "\n",
    "- Table of Contents\n",
    "- Import Necessary Libraries\n",
    "- Load Data\n",
    "- Prepare Data for Training\n",
    "- Split Data into Training and Validation Sets\n",
    "- Define the Neural Network Architecture\n",
    "- Compile the Model\n",
    "- Data Augmentation\n",
    "- Learning Rate Annealing with ReduceLROnPlateau\n",
    "- Train the Model\n",
    "- Visualize Training and Validation Metrics\n",
    "- Make Predictions and Create Submission\n",
    "- Conclusion"
   ]
  },
  {
   "attachments": {},
   "cell_type": "markdown",
   "metadata": {},
   "source": [
    "### Import Necessary Libraries"
   ]
  },
  {
   "attachments": {},
   "cell_type": "markdown",
   "metadata": {},
   "source": [
    "In this section, essential libraries are imported to facilitate data manipulation, visualization, and building the neural network. Libraries like NumPy, pandas, scikit-learn, and TensorFlow/Keras are included.\n"
   ]
  },
  {
   "cell_type": "code",
   "execution_count": 16,
   "metadata": {},
   "outputs": [],
   "source": [
    "import pandas as pd\n",
    "import numpy as np\n",
    "import matplotlib.pyplot as plt\n",
    "from sklearn.model_selection import train_test_split\n",
    "from tensorflow import keras\n",
    "from keras import layers\n",
    "from keras.utils import to_categorical\n",
    "from keras.preprocessing.image import ImageDataGenerator\n",
    "from keras.callbacks import ReduceLROnPlateau\n",
    "\n"
   ]
  },
  {
   "attachments": {},
   "cell_type": "markdown",
   "metadata": {},
   "source": [
    "### Load Data"
   ]
  },
  {
   "attachments": {},
   "cell_type": "markdown",
   "metadata": {},
   "source": [
    "The training and test datasets are loaded using pandas' read_csv function. These datasets contain images of handwritten digits and labels indicating the digit represented in each image."
   ]
  },
  {
   "cell_type": "code",
   "execution_count": 17,
   "metadata": {},
   "outputs": [
    {
     "name": "stdout",
     "output_type": "stream",
     "text": [
      "Train dataset shape: (42000, 785)\n",
      "Test dataset shape: (28000, 784)\n"
     ]
    }
   ],
   "source": [
    "test = pd.read_csv('/Users/gabriel/Library/CloudStorage/OneDrive-Pessoal/Data_Science/Projetos/Digit Recognizer/digit-recognizer/test.csv')\n",
    "train = pd.read_csv('/Users/gabriel/Library/CloudStorage/OneDrive-Pessoal/Data_Science/Projetos/Digit Recognizer/digit-recognizer/train.csv')\n",
    "\n",
    "# Check the shape of the training and test datasets\n",
    "print(\"Train dataset shape:\", train.shape)\n",
    "print(\"Test dataset shape:\", test.shape)"
   ]
  },
  {
   "attachments": {},
   "cell_type": "markdown",
   "metadata": {},
   "source": [
    "  This indicates that the training dataset, for instance, comprises 42,000 samples, each with 785 features. Each sample likely consists of a label representing a digit (0-9) and 784 pixel values representing a 28x28 grayscale image.\n"
   ]
  },
  {
   "attachments": {},
   "cell_type": "markdown",
   "metadata": {},
   "source": [
    "### Prepare Data for Training"
   ]
  },
  {
   "attachments": {},
   "cell_type": "markdown",
   "metadata": {},
   "source": [
    "In this section, the training data is preprocessed. Images are converted into a suitable format, pixel values are normalized, and labels are one-hot encoded.\n",
    "\n",
    "The reshape function transforms the 2D pixel array into a 4D format. The -1 sets the sample count based on input size. Dimensions 28x28 are image size, and 1 is the grayscale channel. This prepares data for convolutional neural networks, ensuring effective image processing during training.\n",
    "\n",
    "\n",
    "\n",
    "\n"
   ]
  },
  {
   "cell_type": "code",
   "execution_count": 18,
   "metadata": {},
   "outputs": [],
   "source": [
    "# Prepare the data\n",
    "X = train.drop(\"label\", axis=1).values.reshape(-1, 28, 28, 1) #!\n",
    "y = to_categorical(train[\"label\"], num_classes=10)\n"
   ]
  },
  {
   "attachments": {},
   "cell_type": "markdown",
   "metadata": {},
   "source": [
    "### Split Data into Training and Validation Sets"
   ]
  },
  {
   "attachments": {},
   "cell_type": "markdown",
   "metadata": {},
   "source": [
    "The data is split into training and validation sets using the train_test_split function from scikit-learn. This helps in assessing the model's performance during training."
   ]
  },
  {
   "cell_type": "code",
   "execution_count": 19,
   "metadata": {},
   "outputs": [],
   "source": [
    "# Split the data into training and validation sets\n",
    "X_train, X_val, y_train, y_val = train_test_split(X, y, test_size=0.2, random_state=42)\n"
   ]
  },
  {
   "attachments": {},
   "cell_type": "markdown",
   "metadata": {},
   "source": [
    "### Define the Neural Network Architecture"
   ]
  },
  {
   "attachments": {},
   "cell_type": "markdown",
   "metadata": {},
   "source": [
    "The neural network architecture is established using Keras' Sequential model. This model allows for building a sequence of layers, forming the foundation of the CNN. The architecture comprises various layers that contribute to the network's ability to extract features and learn patterns from the input data.\n",
    "\n",
    "Convolutional Layers: These layers apply filters to the input images to detect various features like edges, corners, or textures. The Conv2D layers are stacked to perform successive feature extraction.\n",
    "\n",
    "Max-Pooling Layers: These layers downsample the feature maps, reducing their spatial dimensions while retaining essential information. They help in reducing computation while maintaining important features.\n",
    "\n",
    "Dropout Layers: These layers help prevent overfitting by randomly deactivating a fraction of neurons during training. This promotes generalization and reduces dependency on specific neurons.\n",
    "\n",
    "Fully Connected (Dense) Layers: After feature extraction, the data is flattened and fed into dense layers. These layers learn the relationships between different features and make the final predictions.\n",
    "\n",
    "Output Layer (Dense with Softmax Activation): The last dense layer with the softmax activation function produces the final outputs. It converts the network's predictions into class probabilities. Each neuron in this layer represents a digit class (0-9), and the softmax activation ensures that the sum of the probabilities is 1.\n",
    "\n",
    "The arrangement and configuration of these layers together define the architecture of the CNN. This structure is designed to effectively capture complex patterns and features present in the input images, enabling the network to make accurate predictions on the task at hand."
   ]
  },
  {
   "cell_type": "code",
   "execution_count": 20,
   "metadata": {},
   "outputs": [],
   "source": [
    "model = keras.Sequential([\n",
    "    layers.Conv2D(64, (5, 5), activation='relu', input_shape=(28, 28, 1)),\n",
    "    layers.BatchNormalization(),  # Batch normalization added\n",
    "    layers.MaxPooling2D((2, 2)),\n",
    "    layers.Dropout(0.25),\n",
    "\n",
    "    layers.Conv2D(128, (5, 5), activation='relu'),\n",
    "    layers.BatchNormalization(),  # Batch normalization added\n",
    "    layers.MaxPooling2D((2, 2)),\n",
    "    layers.Dropout(0.25),\n",
    "    \n",
    "    layers.Conv2D(256, (3, 3), activation='relu'),\n",
    "    layers.BatchNormalization(),  # Batch normalization added\n",
    "    layers.MaxPooling2D((2, 2)),\n",
    "    layers.Dropout(0.25),\n",
    "\n",
    "    layers.Flatten(),\n",
    "    layers.Dense(512, activation='relu'),\n",
    "    layers.Dropout(0.5),\n",
    "\n",
    "    layers.Dense(10, activation='softmax')\n",
    "])\n"
   ]
  },
  {
   "attachments": {},
   "cell_type": "markdown",
   "metadata": {},
   "source": [
    "### Compile the Model"
   ]
  },
  {
   "attachments": {},
   "cell_type": "markdown",
   "metadata": {},
   "source": [
    "The model is compiled with an optimizer (Adam), a loss function (categorical cross-entropy), and evaluation metrics (accuracy)."
   ]
  },
  {
   "cell_type": "code",
   "execution_count": 21,
   "metadata": {},
   "outputs": [],
   "source": [
    "# Compile the model\n",
    "model.compile(optimizer='adam', loss='categorical_crossentropy', metrics=['accuracy'])\n"
   ]
  },
  {
   "attachments": {},
   "cell_type": "markdown",
   "metadata": {},
   "source": [
    "### Data Augmentation"
   ]
  },
  {
   "attachments": {},
   "cell_type": "markdown",
   "metadata": {},
   "source": [
    "The ImageDataGenerator serves a pivotal role in augmenting the training data in our code. By creating an instance of this generator and specifying various augmentation parameters, we enhance the diversity and richness of our training dataset. This augmentation, in turn, contributes to the robustness and generalization ability of the convolutional neural network (CNN) model.\n",
    "\n",
    "The augmentation techniques, including rotation, width and height shifts, shearing, and zooming, introduce controlled variations to the training images. This process helps prevent overfitting, a phenomenon where the model becomes too tailored to the training data and struggles to perform well on new, unseen data.\n",
    "\n",
    "By setting horizontal_flip and vertical_flip to False, we ensure that certain transformations that could confuse the model, such as horizontal and vertical flips that might change the interpretation of digits like 6 and 9, are avoided."
   ]
  },
  {
   "cell_type": "code",
   "execution_count": 22,
   "metadata": {},
   "outputs": [],
   "source": [
    "# Create an instance of the ImageDataGenerator\n",
    "datagen = ImageDataGenerator(\n",
    "    rotation_range=10,          # Random rotation up to 10 degrees\n",
    "    width_shift_range=0.1,      # Randomly shift width by up to 10% of image width\n",
    "    height_shift_range=0.1,     # Randomly shift height by up to 10% of image height\n",
    "    shear_range=0.2,            # Shear transformations\n",
    "    zoom_range=0.1,             # Random zoom\n",
    "    horizontal_flip=False,      # Horizontal flips\n",
    "    vertical_flip=False,        # Vertical flips\n",
    "    fill_mode='nearest'         # Fill mode for transformed pixels\n",
    ")"
   ]
  },
  {
   "attachments": {},
   "cell_type": "markdown",
   "metadata": {},
   "source": [
    "### Learning Rate Annealing with ReduceLROnPlateau"
   ]
  },
  {
   "attachments": {},
   "cell_type": "markdown",
   "metadata": {},
   "source": [
    "A learning rate annealing technique is defined using ReduceLROnPlateau callback. The learning rate is adjusted based on validation loss and patience parameters.\n",
    "\n",
    "The learning rate is a pivotal hyperparameter that governs the size of steps taken by the optimization algorithm in the parameter space. An ideal learning rate choice can expedite the model's convergence and efficacy, while a suboptimal value might lead to challenges such as slow convergence or divergence.\n",
    "\n",
    "The ReduceLROnPlateau callback orchestrates the learning rate's course during training. It continually monitors validation loss. When this loss plateaus or doesn't improve substantially for a certain number of epochs (defined by patience), the callback reduces the learning rate (factor). This fine-tunes the model's parameter adjustments, fostering convergence. The min_lr guards against excessive reduction. In our case, with patience set to 3, a lack of significant improvement for three consecutive epochs triggers learning rate reduction, optimizing convergence effectively.\n",
    "\n"
   ]
  },
  {
   "cell_type": "code",
   "execution_count": 23,
   "metadata": {},
   "outputs": [],
   "source": [
    "# Define the learning rate annealer\n",
    "lr_scheduler = ReduceLROnPlateau(monitor='val_loss', \n",
    "                                 factor=0.5,\n",
    "                                 verbose = 1, \n",
    "                                 patience=3, \n",
    "                                 min_lr=0.00001)"
   ]
  },
  {
   "attachments": {},
   "cell_type": "markdown",
   "metadata": {},
   "source": [
    "### Train the Model"
   ]
  },
  {
   "attachments": {},
   "cell_type": "markdown",
   "metadata": {},
   "source": [
    "The model is trained using the training and validation data. Data augmentation, batch size, and the learning rate annealing callback are incorporated."
   ]
  },
  {
   "cell_type": "code",
   "execution_count": 24,
   "metadata": {},
   "outputs": [
    {
     "name": "stdout",
     "output_type": "stream",
     "text": [
      "Epoch 1/30\n",
      "263/263 [==============================] - 65s 241ms/step - loss: 0.4267 - accuracy: 0.8659 - val_loss: 0.0810 - val_accuracy: 0.9746 - lr: 0.0010\n",
      "Epoch 2/30\n",
      "263/263 [==============================] - 61s 233ms/step - loss: 0.1361 - accuracy: 0.9592 - val_loss: 0.0610 - val_accuracy: 0.9802 - lr: 0.0010\n",
      "Epoch 3/30\n",
      "263/263 [==============================] - 61s 231ms/step - loss: 0.0980 - accuracy: 0.9703 - val_loss: 0.0486 - val_accuracy: 0.9833 - lr: 0.0010\n",
      "Epoch 4/30\n",
      "263/263 [==============================] - 60s 228ms/step - loss: 0.0821 - accuracy: 0.9751 - val_loss: 0.0307 - val_accuracy: 0.9898 - lr: 0.0010\n",
      "Epoch 5/30\n",
      "263/263 [==============================] - 59s 225ms/step - loss: 0.0737 - accuracy: 0.9783 - val_loss: 0.0362 - val_accuracy: 0.9885 - lr: 0.0010\n",
      "Epoch 6/30\n",
      "263/263 [==============================] - 60s 227ms/step - loss: 0.0667 - accuracy: 0.9801 - val_loss: 0.0235 - val_accuracy: 0.9914 - lr: 0.0010\n",
      "Epoch 7/30\n",
      "263/263 [==============================] - 60s 227ms/step - loss: 0.0598 - accuracy: 0.9816 - val_loss: 0.0296 - val_accuracy: 0.9921 - lr: 0.0010\n",
      "Epoch 8/30\n",
      "263/263 [==============================] - 58s 222ms/step - loss: 0.0614 - accuracy: 0.9823 - val_loss: 0.0247 - val_accuracy: 0.9924 - lr: 0.0010\n",
      "Epoch 9/30\n",
      "263/263 [==============================] - ETA: 0s - loss: 0.0539 - accuracy: 0.9846\n",
      "Epoch 9: ReduceLROnPlateau reducing learning rate to 0.0005000000237487257.\n",
      "263/263 [==============================] - 57s 217ms/step - loss: 0.0539 - accuracy: 0.9846 - val_loss: 0.0247 - val_accuracy: 0.9914 - lr: 0.0010\n",
      "Epoch 10/30\n",
      "263/263 [==============================] - 59s 224ms/step - loss: 0.0459 - accuracy: 0.9861 - val_loss: 0.0378 - val_accuracy: 0.9886 - lr: 5.0000e-04\n",
      "Epoch 11/30\n",
      "263/263 [==============================] - 59s 225ms/step - loss: 0.0403 - accuracy: 0.9880 - val_loss: 0.0187 - val_accuracy: 0.9935 - lr: 5.0000e-04\n",
      "Epoch 12/30\n",
      "263/263 [==============================] - 60s 226ms/step - loss: 0.0383 - accuracy: 0.9881 - val_loss: 0.0165 - val_accuracy: 0.9950 - lr: 5.0000e-04\n",
      "Epoch 13/30\n",
      "263/263 [==============================] - 59s 224ms/step - loss: 0.0362 - accuracy: 0.9888 - val_loss: 0.0211 - val_accuracy: 0.9930 - lr: 5.0000e-04\n",
      "Epoch 14/30\n",
      "263/263 [==============================] - 59s 225ms/step - loss: 0.0384 - accuracy: 0.9886 - val_loss: 0.0186 - val_accuracy: 0.9943 - lr: 5.0000e-04\n",
      "Epoch 15/30\n",
      "263/263 [==============================] - ETA: 0s - loss: 0.0364 - accuracy: 0.9887\n",
      "Epoch 15: ReduceLROnPlateau reducing learning rate to 0.0002500000118743628.\n",
      "263/263 [==============================] - 62s 234ms/step - loss: 0.0364 - accuracy: 0.9887 - val_loss: 0.0240 - val_accuracy: 0.9921 - lr: 5.0000e-04\n",
      "Epoch 16/30\n",
      "263/263 [==============================] - 61s 232ms/step - loss: 0.0294 - accuracy: 0.9908 - val_loss: 0.0167 - val_accuracy: 0.9945 - lr: 2.5000e-04\n",
      "Epoch 17/30\n",
      "263/263 [==============================] - 61s 233ms/step - loss: 0.0286 - accuracy: 0.9913 - val_loss: 0.0167 - val_accuracy: 0.9950 - lr: 2.5000e-04\n",
      "Epoch 18/30\n",
      "263/263 [==============================] - 61s 233ms/step - loss: 0.0255 - accuracy: 0.9922 - val_loss: 0.0162 - val_accuracy: 0.9945 - lr: 2.5000e-04\n",
      "Epoch 19/30\n",
      "263/263 [==============================] - 81s 309ms/step - loss: 0.0276 - accuracy: 0.9918 - val_loss: 0.0170 - val_accuracy: 0.9949 - lr: 2.5000e-04\n",
      "Epoch 20/30\n",
      "263/263 [==============================] - 131s 499ms/step - loss: 0.0258 - accuracy: 0.9923 - val_loss: 0.0171 - val_accuracy: 0.9945 - lr: 2.5000e-04\n",
      "Epoch 21/30\n",
      "263/263 [==============================] - 132s 503ms/step - loss: 0.0268 - accuracy: 0.9913 - val_loss: 0.0152 - val_accuracy: 0.9946 - lr: 2.5000e-04\n",
      "Epoch 22/30\n",
      "263/263 [==============================] - 136s 516ms/step - loss: 0.0250 - accuracy: 0.9931 - val_loss: 0.0140 - val_accuracy: 0.9955 - lr: 2.5000e-04\n",
      "Epoch 23/30\n",
      "263/263 [==============================] - 107s 408ms/step - loss: 0.0241 - accuracy: 0.9927 - val_loss: 0.0151 - val_accuracy: 0.9949 - lr: 2.5000e-04\n",
      "Epoch 24/30\n",
      "263/263 [==============================] - 70s 266ms/step - loss: 0.0239 - accuracy: 0.9924 - val_loss: 0.0155 - val_accuracy: 0.9948 - lr: 2.5000e-04\n",
      "Epoch 25/30\n",
      "263/263 [==============================] - 86s 327ms/step - loss: 0.0256 - accuracy: 0.9920 - val_loss: 0.0136 - val_accuracy: 0.9950 - lr: 2.5000e-04\n",
      "Epoch 26/30\n",
      "263/263 [==============================] - 110s 420ms/step - loss: 0.0262 - accuracy: 0.9920 - val_loss: 0.0150 - val_accuracy: 0.9945 - lr: 2.5000e-04\n",
      "Epoch 27/30\n",
      "263/263 [==============================] - 130s 493ms/step - loss: 0.0229 - accuracy: 0.9928 - val_loss: 0.0158 - val_accuracy: 0.9948 - lr: 2.5000e-04\n",
      "Epoch 28/30\n",
      "263/263 [==============================] - ETA: 0s - loss: 0.0231 - accuracy: 0.9926\n",
      "Epoch 28: ReduceLROnPlateau reducing learning rate to 0.0001250000059371814.\n",
      "263/263 [==============================] - 148s 561ms/step - loss: 0.0231 - accuracy: 0.9926 - val_loss: 0.0165 - val_accuracy: 0.9949 - lr: 2.5000e-04\n",
      "Epoch 29/30\n",
      "263/263 [==============================] - 165s 627ms/step - loss: 0.0191 - accuracy: 0.9936 - val_loss: 0.0161 - val_accuracy: 0.9949 - lr: 1.2500e-04\n",
      "Epoch 30/30\n",
      "263/263 [==============================] - 143s 542ms/step - loss: 0.0186 - accuracy: 0.9941 - val_loss: 0.0167 - val_accuracy: 0.9951 - lr: 1.2500e-04\n"
     ]
    }
   ],
   "source": [
    "# Train the model and store the history with data augmentation and batch size selection\n",
    "epochs = 30\n",
    "batch_size = 128 \n",
    "history = model.fit(\n",
    "    datagen.flow(X_train, y_train, batch_size=batch_size),\n",
    "    epochs=epochs,\n",
    "    validation_data=(X_val, y_val),\n",
    "    callbacks=[lr_scheduler]\n",
    ")"
   ]
  },
  {
   "attachments": {},
   "cell_type": "markdown",
   "metadata": {},
   "source": [
    "### Visualize Training and Validation Metrics"
   ]
  },
  {
   "attachments": {},
   "cell_type": "markdown",
   "metadata": {},
   "source": [
    "Training and validation accuracy and loss are visualized using matplotlib to assess model performance."
   ]
  },
  {
   "cell_type": "code",
   "execution_count": 25,
   "metadata": {},
   "outputs": [
    {
     "data": {
      "image/png": "[encoded data removed]",
      "text/plain": [
       "<Figure size 1000x600 with 1 Axes>"
      ]
     },
     "metadata": {},
     "output_type": "display_data"
    },
    {
     "data": {
      "image/png": "[encoded data removed]",
      "text/plain": [
       "<Figure size 1000x600 with 1 Axes>"
      ]
     },
     "metadata": {},
     "output_type": "display_data"
    }
   ],
   "source": [
    "# Plot training and validation accuracy\n",
    "plt.figure(figsize=(10, 6))\n",
    "plt.plot(history.history['accuracy'], label='Train Accuracy')\n",
    "plt.plot(history.history['val_accuracy'], label='Validation Accuracy')\n",
    "plt.xlabel('Epoch')\n",
    "plt.ylabel('Accuracy')\n",
    "plt.title('Training and Validation Accuracy')\n",
    "plt.legend()\n",
    "plt.show()\n",
    "\n",
    "# Plot training and validation loss\n",
    "plt.figure(figsize=(10, 6))\n",
    "plt.plot(history.history['loss'], label='Train Loss')\n",
    "plt.plot(history.history['val_loss'], label='Validation Loss')\n",
    "plt.xlabel('Epoch')\n",
    "plt.ylabel('Loss')\n",
    "plt.title('Training and Validation Loss')\n",
    "plt.legend()\n",
    "plt.show()"
   ]
  },
  {
   "attachments": {},
   "cell_type": "markdown",
   "metadata": {},
   "source": [
    "### Make Predictions and Create Submission"
   ]
  },
  {
   "attachments": {},
   "cell_type": "markdown",
   "metadata": {},
   "source": [
    "The trained model is used to make predictions on the test dataset. Predicted labels are converted to the final submission format."
   ]
  },
  {
   "cell_type": "code",
   "execution_count": 26,
   "metadata": {},
   "outputs": [
    {
     "name": "stdout",
     "output_type": "stream",
     "text": [
      "875/875 [==============================] - 40s 45ms/step\n"
     ]
    }
   ],
   "source": [
    "# Evaluate the model on the test set\n",
    "X_test = test.values.reshape(-1, 28, 28, 1)\n",
    "predictions = model.predict(X_test)\n",
    "\n",
    "# Convert predictions to labels (using the class with highest probability)\n",
    "predicted_labels = np.argmax(predictions, axis=1)\n",
    "\n",
    "# Create a submission DataFrame\n",
    "submission = pd.DataFrame({'ImageId': np.arange(1, len(predicted_labels) + 1),\n",
    "                           'Label': predicted_labels})\n",
    "\n",
    "# Save the submission DataFrame to a CSV file\n",
    "submission.to_csv('submission.csv', index=False)"
   ]
  }
 ],
 "metadata": {
  "kernelspec": {
   "display_name": "c_digitenv",
   "language": "python",
   "name": "python3"
  },
  "language_info": {
   "codemirror_mode": {
    "name": "ipython",
    "version": 3
   },
   "file_extension": ".py",
   "mimetype": "text/x-python",
   "name": "python",
   "nbconvert_exporter": "python",
   "pygments_lexer": "ipython3",
   "version": "3.10.12"
  },
  "orig_nbformat": 4,
  "vscode": {
   "interpreter": {
    "hash": "6624699793bee7bfd2aaa085cbc8f7ab580e428a9ca825ba2a97733a6e12354a"
   }
  }
 },
 "nbformat": 4,
 "nbformat_minor": 2
}
